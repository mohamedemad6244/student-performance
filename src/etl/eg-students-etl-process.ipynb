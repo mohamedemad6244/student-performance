{
 "cells": [
  {
   "cell_type": "code",
   "execution_count": null,
   "metadata": {
    "application/vnd.databricks.v1+cell": {
     "cellMetadata": {
      "byteLimit": 2048000,
      "rowLimit": 10000
     },
     "inputWidgets": {},
     "nuid": "94ddb68c-1310-4d56-b097-76415c010090",
     "showTitle": false,
     "title": ""
    }
   },
   "outputs": [
    {
     "name": "stdout",
     "output_type": "stream",
     "text": [
      "Requirement already satisfied: pandas in /databricks/python3/lib/python3.11/site-packages (1.5.3)\n",
      "Requirement already satisfied: numpy in /databricks/python3/lib/python3.11/site-packages (1.23.5)\n",
      "Requirement already satisfied: matplotlib in /databricks/python3/lib/python3.11/site-packages (3.7.2)\n",
      "Requirement already satisfied: seaborn in /databricks/python3/lib/python3.11/site-packages (0.12.2)\n",
      "Requirement already satisfied: python-dateutil>=2.8.1 in /databricks/python3/lib/python3.11/site-packages (from pandas) (2.8.2)\n",
      "Requirement already satisfied: pytz>=2020.1 in /databricks/python3/lib/python3.11/site-packages (from pandas) (2022.7)\n",
      "Requirement already satisfied: contourpy>=1.0.1 in /databricks/python3/lib/python3.11/site-packages (from matplotlib) (1.0.5)\n",
      "Requirement already satisfied: cycler>=0.10 in /databricks/python3/lib/python3.11/site-packages (from matplotlib) (0.11.0)\n",
      "Requirement already satisfied: fonttools>=4.22.0 in /databricks/python3/lib/python3.11/site-packages (from matplotlib) (4.25.0)\n",
      "Requirement already satisfied: kiwisolver>=1.0.1 in /databricks/python3/lib/python3.11/site-packages (from matplotlib) (1.4.4)\n",
      "Requirement already satisfied: packaging>=20.0 in /databricks/python3/lib/python3.11/site-packages (from matplotlib) (23.2)\n",
      "Requirement already satisfied: pillow>=6.2.0 in /databricks/python3/lib/python3.11/site-packages (from matplotlib) (9.4.0)\n",
      "Requirement already satisfied: pyparsing<3.1,>=2.3.1 in /databricks/python3/lib/python3.11/site-packages (from matplotlib) (3.0.9)\n",
      "Requirement already satisfied: six>=1.5 in /usr/lib/python3/dist-packages (from python-dateutil>=2.8.1->pandas) (1.16.0)\n",
      "\u001b[43mNote: you may need to restart the kernel using %restart_python or dbutils.library.restartPython() to use updated packages.\u001b[0m\n"
     ]
    }
   ],
   "source": [
    "%pip install pandas numpy matplotlib seaborn"
   ]
  },
  {
   "cell_type": "markdown",
   "metadata": {
    "application/vnd.databricks.v1+cell": {
     "cellMetadata": {
      "byteLimit": 2048000,
      "rowLimit": 10000
     },
     "inputWidgets": {},
     "nuid": "5cd1a525-b3dd-4c30-a028-71fc92a56232",
     "showTitle": false,
     "title": ""
    }
   },
   "source": [
    "1. Data Extraction\n",
    "\n",
    "    **Objective:** Load the data from the Azure Data Lake into a DataFrame"
   ]
  },
  {
   "cell_type": "code",
   "execution_count": null,
   "metadata": {
    "application/vnd.databricks.v1+cell": {
     "cellMetadata": {
      "byteLimit": 2048000,
      "rowLimit": 10000
     },
     "inputWidgets": {},
     "nuid": "2f46b4ac-dfad-4a08-b45e-eea0170f81ad",
     "showTitle": false,
     "title": ""
    }
   },
   "outputs": [
    {
     "name": "stdout",
     "output_type": "stream",
     "text": [
      "Requirement already satisfied: azure-storage-blob in /databricks/python3/lib/python3.11/site-packages (12.19.1)\n",
      "Requirement already satisfied: azure-core<2.0.0,>=1.28.0 in /databricks/python3/lib/python3.11/site-packages (from azure-storage-blob) (1.30.2)\n",
      "Requirement already satisfied: cryptography>=2.1.4 in /databricks/python3/lib/python3.11/site-packages (from azure-storage-blob) (41.0.3)\n",
      "Requirement already satisfied: typing-extensions>=4.3.0 in /databricks/python3/lib/python3.11/site-packages (from azure-storage-blob) (4.10.0)\n",
      "Requirement already satisfied: isodate>=0.6.1 in /databricks/python3/lib/python3.11/site-packages (from azure-storage-blob) (0.6.1)\n",
      "Requirement already satisfied: requests>=2.21.0 in /databricks/python3/lib/python3.11/site-packages (from azure-core<2.0.0,>=1.28.0->azure-storage-blob) (2.31.0)\n",
      "Requirement already satisfied: six>=1.11.0 in /usr/lib/python3/dist-packages (from azure-core<2.0.0,>=1.28.0->azure-storage-blob) (1.16.0)\n",
      "Requirement already satisfied: cffi>=1.12 in /databricks/python3/lib/python3.11/site-packages (from cryptography>=2.1.4->azure-storage-blob) (1.15.1)\n",
      "Requirement already satisfied: pycparser in /databricks/python3/lib/python3.11/site-packages (from cffi>=1.12->cryptography>=2.1.4->azure-storage-blob) (2.21)\n",
      "Requirement already satisfied: charset-normalizer<4,>=2 in /databricks/python3/lib/python3.11/site-packages (from requests>=2.21.0->azure-core<2.0.0,>=1.28.0->azure-storage-blob) (2.0.4)\n",
      "Requirement already satisfied: idna<4,>=2.5 in /databricks/python3/lib/python3.11/site-packages (from requests>=2.21.0->azure-core<2.0.0,>=1.28.0->azure-storage-blob) (3.4)\n",
      "Requirement already satisfied: urllib3<3,>=1.21.1 in /databricks/python3/lib/python3.11/site-packages (from requests>=2.21.0->azure-core<2.0.0,>=1.28.0->azure-storage-blob) (1.26.16)\n",
      "Requirement already satisfied: certifi>=2017.4.17 in /databricks/python3/lib/python3.11/site-packages (from requests>=2.21.0->azure-core<2.0.0,>=1.28.0->azure-storage-blob) (2023.7.22)\n",
      "\u001b[43mNote: you may need to restart the kernel using %restart_python or dbutils.library.restartPython() to use updated packages.\u001b[0m\n"
     ]
    }
   ],
   "source": [
    "%pip install azure-storage-blob\n",
    "\n",
    "from azure.storage.blob import BlobServiceClient\n",
    "import pandas as pd\n",
    "from io import StringIO\n",
    "\n",
    "# Define the connection string and blob details\n",
    "connection_string = \"\"\n",
    "\n",
    "container_name = \"\"\n",
    "blob_name = \"\"\n",
    "\n",
    "# Create a BlobServiceClient\n",
    "blob_service_client = BlobServiceClient.from_connection_string(connection_string)\n",
    "\n",
    "# Get the blob client\n",
    "blob_client = blob_service_client.get_blob_client(container=container_name, blob=blob_name)\n",
    "\n",
    "# Download the blob content as a string\n",
    "blob_data = blob_client.download_blob().content_as_text()"
   ]
  },
  {
   "cell_type": "code",
   "execution_count": null,
   "metadata": {
    "application/vnd.databricks.v1+cell": {
     "cellMetadata": {
      "byteLimit": 2048000,
      "rowLimit": 10000
     },
     "collapsed": true,
     "inputWidgets": {},
     "nuid": "52f6e40f-d862-4ab7-85e1-f0926e4b6e0e",
     "showTitle": false,
     "title": ""
    }
   },
   "outputs": [
    {
     "data": {
      "text/html": [
       "<style scoped>\n",
       "  .table-result-container {\n",
       "    max-height: 300px;\n",
       "    overflow: auto;\n",
       "  }\n",
       "  table, th, td {\n",
       "    border: 1px solid black;\n",
       "    border-collapse: collapse;\n",
       "  }\n",
       "  th, td {\n",
       "    padding: 5px;\n",
       "  }\n",
       "  th {\n",
       "    text-align: left;\n",
       "  }\n",
       "</style><div class='table-result-container'><table class='table-result'><thead style='background-color: white'><tr><th>Student_Name</th><th>Student_Age</th><th>Student_Year</th><th>Father_Degree</th><th>Mother_Degree</th><th>Education_Type</th><th>Subject_1</th><th>Subject_2</th><th>Subject_3</th><th>Subject_4</th><th>Subject_5</th><th>Subject_6</th><th>Subject_7</th><th>Subject_8</th><th>Subject_9</th><th>Subject_10</th></tr></thead><tbody><tr><td>Allison Lang        </td><td>18</td><td>Year 9              </td><td>High School         </td><td>High School         </td><td>IB                  </td><td>72.23673953300614</td><td>85.93114936966514</td><td>65.69851271532883</td><td>84.1638444286312</td><td>78.17941373663007</td><td>50.57820887095305</td><td>70.071681039</td><td>80.29450850418387</td><td>72.70974127694512</td><td>59.08067817625046</td></tr><tr><td>Jaclyn Mcneil       </td><td>14</td><td>Year 9              </td><td>Bachelor            </td><td>PhD                 </td><td>IB                  </td><td>91.60307770488868</td><td>73.18642672130893</td><td>64.24023932483671</td><td>47.78654246153686</td><td>83.13858065509869</td><td>66.91370171778615</td><td>42.58721142600236</td><td>87.99700880410457</td><td>89.17686207511792</td><td>78.49315791112478</td></tr><tr><td>Melissa Lee         </td><td>16</td><td>Year 10             </td><td>None                </td><td>PhD                 </td><td>IB                  </td><td>100.0</td><td>83.98592336280845</td><td>89.37816212685267</td><td>82.44685282</td><td>86.36881781399998</td><td>90.34702011670538</td><td>100.0</td><td>83.97229648622279</td><td>69.21296090882828</td><td>79.20663405797652</td></tr><tr><td>Timothy Maxwell     </td><td>14</td><td>Year 10             </td><td>Bachelor            </td><td>Bachelor            </td><td>Thanweya            </td><td>91.08213123885534</td><td>100.0</td><td>78.80221976608895</td><td>78.447670476</td><td>64.60623876381095</td><td>82.04542086155328</td><td>69.86909904215277</td><td>91.12287029269561</td><td>95.20775195312397</td><td>52.60270573904484</td></tr><tr><td>Eric Steele         </td><td>17</td><td>Year 11             </td><td>PhD                 </td><td>None                </td><td>IGCSE               </td><td>74.90614373713879</td><td>69.51814562964812</td><td>65.28484123859717</td><td>56.31702841468093</td><td>69.75814006591311</td><td>85.810640538</td><td>63.77695507052932</td><td>61.80259881797415</td><td>84.95113157922286</td><td>68.14646714371376</td></tr></tbody></table></div>"
      ]
     },
     "metadata": {
      "application/vnd.databricks.v1+output": {
       "addedWidgets": {},
       "aggData": [],
       "aggError": "",
       "aggOverflow": false,
       "aggSchema": [],
       "aggSeriesLimitReached": false,
       "aggType": "",
       "arguments": {},
       "columnCustomDisplayInfos": {},
       "data": [
        [
         "Allison Lang        ",
         18,
         "Year 9              ",
         "High School         ",
         "High School         ",
         "IB                  ",
         72.23673953300614,
         85.93114936966514,
         65.69851271532883,
         84.1638444286312,
         78.17941373663007,
         50.57820887095305,
         70.071681039,
         80.29450850418387,
         72.70974127694512,
         59.08067817625046
        ],
        [
         "Jaclyn Mcneil       ",
         14,
         "Year 9              ",
         "Bachelor            ",
         "PhD                 ",
         "IB                  ",
         91.60307770488868,
         73.18642672130893,
         64.24023932483671,
         47.78654246153686,
         83.13858065509869,
         66.91370171778615,
         42.58721142600236,
         87.99700880410457,
         89.17686207511792,
         78.49315791112478
        ],
        [
         "Melissa Lee         ",
         16,
         "Year 10             ",
         "None                ",
         "PhD                 ",
         "IB                  ",
         100,
         83.98592336280845,
         89.37816212685267,
         82.44685282,
         86.36881781399998,
         90.34702011670538,
         100,
         83.97229648622279,
         69.21296090882828,
         79.20663405797652
        ],
        [
         "Timothy Maxwell     ",
         14,
         "Year 10             ",
         "Bachelor            ",
         "Bachelor            ",
         "Thanweya            ",
         91.08213123885534,
         100,
         78.80221976608895,
         78.447670476,
         64.60623876381095,
         82.04542086155328,
         69.86909904215277,
         91.12287029269561,
         95.20775195312397,
         52.60270573904484
        ],
        [
         "Eric Steele         ",
         17,
         "Year 11             ",
         "PhD                 ",
         "None                ",
         "IGCSE               ",
         74.90614373713879,
         69.51814562964812,
         65.28484123859717,
         56.31702841468093,
         69.75814006591311,
         85.810640538,
         63.77695507052932,
         61.80259881797415,
         84.95113157922286,
         68.14646714371376
        ]
       ],
       "datasetInfos": [],
       "dbfsResultPath": null,
       "isJsonSchema": true,
       "metadata": {},
       "overflow": false,
       "plotOptions": {
        "customPlotOptions": {},
        "displayType": "table",
        "pivotAggregation": null,
        "pivotColumns": null,
        "xColumns": null,
        "yColumns": null
       },
       "removedWidgets": [],
       "schema": [
        {
         "metadata": "{}",
         "name": "Student_Name",
         "type": "\"string\""
        },
        {
         "metadata": "{}",
         "name": "Student_Age",
         "type": "\"long\""
        },
        {
         "metadata": "{}",
         "name": "Student_Year",
         "type": "\"string\""
        },
        {
         "metadata": "{}",
         "name": "Father_Degree",
         "type": "\"string\""
        },
        {
         "metadata": "{}",
         "name": "Mother_Degree",
         "type": "\"string\""
        },
        {
         "metadata": "{}",
         "name": "Education_Type",
         "type": "\"string\""
        },
        {
         "metadata": "{}",
         "name": "Subject_1",
         "type": "\"double\""
        },
        {
         "metadata": "{}",
         "name": "Subject_2",
         "type": "\"double\""
        },
        {
         "metadata": "{}",
         "name": "Subject_3",
         "type": "\"double\""
        },
        {
         "metadata": "{}",
         "name": "Subject_4",
         "type": "\"double\""
        },
        {
         "metadata": "{}",
         "name": "Subject_5",
         "type": "\"double\""
        },
        {
         "metadata": "{}",
         "name": "Subject_6",
         "type": "\"double\""
        },
        {
         "metadata": "{}",
         "name": "Subject_7",
         "type": "\"double\""
        },
        {
         "metadata": "{}",
         "name": "Subject_8",
         "type": "\"double\""
        },
        {
         "metadata": "{}",
         "name": "Subject_9",
         "type": "\"double\""
        },
        {
         "metadata": "{}",
         "name": "Subject_10",
         "type": "\"double\""
        }
       ],
       "type": "table"
      }
     },
     "output_type": "display_data"
    }
   ],
   "source": [
    "# Read the CSV data into a DataFrame\n",
    "df_students = pd.read_csv(StringIO(blob_data))\n",
    "\n",
    "# Display the first few rows of the DataFrame\n",
    "display(df_students.head())"
   ]
  },
  {
   "cell_type": "markdown",
   "metadata": {
    "application/vnd.databricks.v1+cell": {
     "cellMetadata": {},
     "inputWidgets": {},
     "nuid": "1e2f435d-173a-44d7-9cb1-3431dfc9bbc4",
     "showTitle": false,
     "title": ""
    }
   },
   "source": [
    "2. Data Exploration\n",
    "\n",
    "    **Objective:** Analyze the dataset and visualize key aspects to identify data quality issues."
   ]
  },
  {
   "cell_type": "code",
   "execution_count": null,
   "metadata": {
    "application/vnd.databricks.v1+cell": {
     "cellMetadata": {
      "byteLimit": 2048000,
      "rowLimit": 10000
     },
     "collapsed": true,
     "inputWidgets": {},
     "nuid": "70cc4d9a-17e5-480c-a003-91aa96f1b2db",
     "showTitle": false,
     "title": ""
    }
   },
   "outputs": [
    {
     "name": "stdout",
     "output_type": "stream",
     "text": [
      "Summary Statistics:\n",
      "         Student_Age     Subject_1  ...     Subject_9    Subject_10\n",
      "count  50060.000000  50060.000000  ...  50060.000000  50060.000000\n",
      "mean      16.003915     74.732046  ...     74.708324     74.686701\n",
      "std        1.415874     14.341515  ...     14.357485     14.363807\n",
      "min       14.000000     20.000000  ...     20.000000     20.000000\n",
      "25%       15.000000     64.921340  ...     64.976347     64.844595\n",
      "50%       16.000000     75.047923  ...     75.031301     74.984296\n",
      "75%       17.000000     85.144389  ...     85.153220     85.082598\n",
      "max       18.000000    100.000000  ...    100.000000    100.000000\n",
      "\n",
      "[8 rows x 11 columns]\n",
      "Missing Values:\n",
      " Student_Name      0\n",
      "Student_Age       0\n",
      "Student_Year      0\n",
      "Father_Degree     0\n",
      "Mother_Degree     0\n",
      "Education_Type    0\n",
      "Subject_1         0\n",
      "Subject_2         0\n",
      "Subject_3         0\n",
      "Subject_4         0\n",
      "Subject_5         0\n",
      "Subject_6         0\n",
      "Subject_7         0\n",
      "Subject_8         0\n",
      "Subject_9         0\n",
      "Subject_10        0\n",
      "dtype: int64\n"
     ]
    },
    {
     "data": {
      "image/png": "[encoded data removed]",
      "text/plain": [
       "<Figure size 1500x1000 with 10 Axes>"
      ]
     },
     "metadata": {},
     "output_type": "display_data"
    },
    {
     "data": {
      "image/png": "[encoded data removed]",
      "text/plain": [
       "<Figure size 1200x800 with 2 Axes>"
      ]
     },
     "metadata": {},
     "output_type": "display_data"
    },
    {
     "name": "stdout",
     "output_type": "stream",
     "text": [
      "Unique Value Insights:\n",
      "Student_Year: ['Year 9              ' 'Year 10             ' 'Year 11             '\n",
      " 'Year 12             ']\n",
      "Father_Degree: ['High School         ' 'Bachelor            ' 'None                '\n",
      " 'PhD                 ' 'Master              ']\n",
      "Mother_Degree: ['High School         ' 'PhD                 ' 'Bachelor            '\n",
      " 'None                ' 'Master              ']\n",
      "Education_Type: ['IB                  ' 'Thanweya            ' 'IGCSE               ']\n"
     ]
    }
   ],
   "source": [
    "# Import visualization libraries\n",
    "import matplotlib.pyplot as plt\n",
    "import seaborn as sns\n",
    "\n",
    "# Set aesthetic style for plots\n",
    "sns.set(style=\"whitegrid\")\n",
    "\n",
    "# Summary statistics\n",
    "summary_stats = df_students.describe()\n",
    "print(\"Summary Statistics:\\n\", summary_stats)\n",
    "\n",
    "# Check for missing values\n",
    "missing_values = df_students.isnull().sum()\n",
    "print(\"Missing Values:\\n\", missing_values)\n",
    "\n",
    "# Visualize distributions of grades\n",
    "grade_columns = [f'Subject_{i}' for i in range(1, 11)]\n",
    "\n",
    "plt.figure(figsize=(15, 10))\n",
    "for i, column in enumerate(grade_columns):\n",
    "    plt.subplot(3, 4, i + 1)\n",
    "    sns.histplot(df_students[column], bins=10, kde=True, color='blue', edgecolor='black')\n",
    "    plt.title(f'Distribution of {column}')\n",
    "    plt.xlabel('Grades')\n",
    "    plt.ylabel('Frequency')\n",
    "\n",
    "plt.tight_layout()\n",
    "plt.suptitle('Distribution of Student Grades', fontsize=16, y=1.02)\n",
    "plt.show()\n",
    "\n",
    "# Visualize correlation between subjects\n",
    "plt.figure(figsize=(12, 8))\n",
    "correlation_matrix = df_students[grade_columns].corr()\n",
    "sns.heatmap(correlation_matrix, annot=True, fmt=\".2f\", cmap='coolwarm')\n",
    "plt.title('Correlation Matrix of Student Grades')\n",
    "plt.show()\n",
    "\n",
    "\n",
    "# what are the Unique Values of (student year, father degree, mother degree, education type)\n",
    "# Extract Unique Values\n",
    "unique_values = {\n",
    "    \"Student_Year\": df_students['Student_Year'].unique(),\n",
    "    \"Father_Degree\": df_students['Father_Degree'].unique(),\n",
    "    \"Mother_Degree\": df_students['Mother_Degree'].unique(),\n",
    "    \"Education_Type\": df_students['Education_Type'].unique(),\n",
    "}\n",
    "\n",
    "# Print Unique Values\n",
    "print(\"Unique Value Insights:\")\n",
    "for key, values in unique_values.items():\n",
    "    print(f\"{key}: {values}\")\n"
   ]
  },
  {
   "cell_type": "markdown",
   "metadata": {
    "application/vnd.databricks.v1+cell": {
     "cellMetadata": {},
     "inputWidgets": {},
     "nuid": "d99d48f2-dcef-4869-8c3f-f3934f43260b",
     "showTitle": false,
     "title": ""
    }
   },
   "source": [
    "# Data Exploration Phase\n",
    "\n",
    "## Summary Statistics\n",
    "\n",
    "The summary statistics provide an overview of the numeric features in the dataset. Below are the key statistics for `Student_Age` and grades for `Subject_1` to `Subject_10`:\n",
    "\n",
    "| Statistic       | Student_Age  | Subject_1   | ... | Subject_9   | Subject_10  |\n",
    "|------------------|--------------|--------------|-----|--------------|--------------|\n",
    "| Count            | 50,060       | 50,060       | ... | 50,060       | 50,060       |\n",
    "| Mean             | 16.00        | 74.73        | ... | 74.71        | 74.69        |\n",
    "| Standard Deviation| 1.42        | 14.34        | ... | 14.36        | 14.36        |\n",
    "| Minimum          | 14           | 20           | ... | 20           | 20           |\n",
    "| 25th Percentile  | 15           | 64.92        | ... | 64.98        | 64.84        |\n",
    "| Median           | 16           | 75.05        | ... | 75.03        | 74.98        |\n",
    "| 75th Percentile  | 17           | 85.14        | ... | 85.15        | 85.08        |\n",
    "| Maximum          | 18           | 100          | ... | 100          | 100          |\n",
    "\n",
    "The statistics suggest that:\n",
    "- The average student age is approximately 16 years.\n",
    "- Grades across all subjects range from 20 to 100, with a mean of around 74-75.\n",
    "\n",
    "## Missing Values\n",
    "\n",
    "The analysis shows that there are no missing values in the dataset for any of the columns. Below is a summary of missing values for each attribute:\n",
    "\n",
    "| Attribute        | Missing Values |\n",
    "|------------------|----------------|\n",
    "| Student_Name     | 0              |\n",
    "| Student_Age      | 0              |\n",
    "| Student_Year     | 0              |\n",
    "| Father_Degree    | 0              |\n",
    "| Mother_Degree    | 0              |\n",
    "| Education_Type   | 0              |\n",
    "| Subject_1        | 0              |\n",
    "| Subject_2        | 0              |\n",
    "| Subject_3        | 0              |\n",
    "| Subject_4        | 0              |\n",
    "| Subject_5        | 0              |\n",
    "| Subject_6        | 0              |\n",
    "| Subject_7        | 0              |\n",
    "| Subject_8        | 0              |\n",
    "| Subject_9        | 0              |\n",
    "| Subject_10       | 0              |\n",
    "\n",
    "### Insights\n",
    "- The absence of missing values indicates a clean dataset regarding the collected attributes.\n",
    "- All students have data for age, grades, and parental education, which will aid in further analysis.\n",
    "- Unique values of the Father_Degree is High School, Bachelor, None, PhD, Master\n",
    "- Unique values of the Mother_Degree is  High School, Bachelor, None, PhD, Master\n",
    "- Unique values of the Education_Type is IB, Thanweya, IGCSE\n"
   ]
  },
  {
   "cell_type": "code",
   "execution_count": null,
   "metadata": {
    "application/vnd.databricks.v1+cell": {
     "cellMetadata": {
      "byteLimit": 2048000,
      "rowLimit": 10000
     },
     "collapsed": true,
     "inputWidgets": {},
     "nuid": "945d1533-a77f-4a8b-b6b9-d7df13149033",
     "showTitle": false,
     "title": ""
    }
   },
   "outputs": [
    {
     "name": "stdout",
     "output_type": "stream",
     "text": [
      "Number of duplicate rows: 60\n",
      "Duplicate Rows:\n"
     ]
    },
    {
     "data": {
      "text/html": [
       "<style scoped>\n",
       "  .table-result-container {\n",
       "    max-height: 300px;\n",
       "    overflow: auto;\n",
       "  }\n",
       "  table, th, td {\n",
       "    border: 1px solid black;\n",
       "    border-collapse: collapse;\n",
       "  }\n",
       "  th, td {\n",
       "    padding: 5px;\n",
       "  }\n",
       "  th {\n",
       "    text-align: left;\n",
       "  }\n",
       "</style><div class='table-result-container'><table class='table-result'><thead style='background-color: white'><tr><th>Student_Name</th><th>Student_Age</th><th>Student_Year</th><th>Father_Degree</th><th>Mother_Degree</th><th>Education_Type</th><th>Subject_1</th><th>Subject_2</th><th>Subject_3</th><th>Subject_4</th><th>Subject_5</th><th>Subject_6</th><th>Subject_7</th><th>Subject_8</th><th>Subject_9</th><th>Subject_10</th></tr></thead><tbody><tr><td>Allison Lang        </td><td>18</td><td>Year 9              </td><td>High School         </td><td>High School         </td><td>IB                  </td><td>72.23673953300614</td><td>85.93114936966514</td><td>65.69851271532883</td><td>84.1638444286312</td><td>78.17941373663007</td><td>50.57820887095305</td><td>70.071681039</td><td>80.29450850418387</td><td>72.70974127694512</td><td>59.08067817625046</td></tr><tr><td>Jaclyn Mcneil       </td><td>14</td><td>Year 9              </td><td>Bachelor            </td><td>PhD                 </td><td>IB                  </td><td>91.60307770488868</td><td>73.18642672130893</td><td>64.24023932483671</td><td>47.78654246153686</td><td>83.13858065509869</td><td>66.91370171778615</td><td>42.58721142600236</td><td>87.99700880410457</td><td>89.17686207511792</td><td>78.49315791112478</td></tr><tr><td>Melissa Lee         </td><td>16</td><td>Year 10             </td><td>None                </td><td>PhD                 </td><td>IB                  </td><td>100.0</td><td>83.98592336280845</td><td>89.37816212685267</td><td>82.44685282</td><td>86.36881781399998</td><td>90.34702011670538</td><td>100.0</td><td>83.97229648622279</td><td>69.21296090882828</td><td>79.20663405797652</td></tr><tr><td>Timothy Maxwell     </td><td>14</td><td>Year 10             </td><td>Bachelor            </td><td>Bachelor            </td><td>Thanweya            </td><td>91.08213123885534</td><td>100.0</td><td>78.80221976608895</td><td>78.447670476</td><td>64.60623876381095</td><td>82.04542086155328</td><td>69.86909904215277</td><td>91.12287029269561</td><td>95.20775195312397</td><td>52.60270573904484</td></tr><tr><td>Eric Steele         </td><td>17</td><td>Year 11             </td><td>PhD                 </td><td>None                </td><td>IGCSE               </td><td>74.90614373713879</td><td>69.51814562964812</td><td>65.28484123859717</td><td>56.31702841468093</td><td>69.75814006591311</td><td>85.810640538</td><td>63.77695507052932</td><td>61.80259881797415</td><td>84.95113157922286</td><td>68.14646714371376</td></tr><tr><td>Gabriel Brown       </td><td>15</td><td>Year 11             </td><td>Bachelor            </td><td>Master              </td><td>IB                  </td><td>72.52941756567286</td><td>84.63012678528686</td><td>88.03681272553553</td><td>83.41956545808367</td><td>95.99475919148017</td><td>81.41609333837171</td><td>78.75879528636749</td><td>46.53522738538755</td><td>77.55388682762485</td><td>59.4073959342704</td></tr><tr><td>Carolyn Erickson    </td><td>18</td><td>Year 10             </td><td>Bachelor            </td><td>High School         </td><td>IGCSE               </td><td>83.73317015841104</td><td>53.49068149370072</td><td>64.17683213460955</td><td>74.78808222399998</td><td>64.96112953388428</td><td>69.59421204498645</td><td>80.82629496228866</td><td>72.33725697088289</td><td>88.71676789590974</td><td>93.3955624731564</td></tr><tr><td>Anna Mooney         </td><td>14</td><td>Year 12             </td><td>Master              </td><td>PhD                 </td><td>Thanweya            </td><td>61.32451501811476</td><td>65.69472744310949</td><td>56.516955225193136</td><td>76.30063643803929</td><td>78.02510339768803</td><td>71.51054544829633</td><td>64.87042766441473</td><td>45.91552027132794</td><td>42.06997212345946</td><td>69.81213150251212</td></tr><tr><td>Aaron Mullen        </td><td>15</td><td>Year 11             </td><td>PhD                 </td><td>PhD                 </td><td>Thanweya            </td><td>69.81996739734151</td><td>36.82859445886031</td><td>76.87353534307675</td><td>49.365484182</td><td>67.70895743377115</td><td>61.40984749093659</td><td>74.60237362469329</td><td>75.59767729994994</td><td>85.59456445775916</td><td>80.01601676914022</td></tr><tr><td>Carrie Harvey       </td><td>17</td><td>Year 9              </td><td>PhD                 </td><td>None                </td><td>IGCSE               </td><td>52.06411990552364</td><td>75.20175398412893</td><td>80.70579035264221</td><td>67.39014418390616</td><td>78.04519106454602</td><td>69.355050188</td><td>82.10307968923705</td><td>71.72488438060147</td><td>70.87384377877402</td><td>61.598955911</td></tr><tr><td>Amy Robles          </td><td>15</td><td>Year 9              </td><td>Bachelor            </td><td>PhD                 </td><td>IGCSE               </td><td>72.05774324076495</td><td>70.96654957323587</td><td>61.82003614775641</td><td>59.570354868864726</td><td>76.76036705181414</td><td>100.0</td><td>71.59768182234062</td><td>72.30993131092907</td><td>65.08767350279183</td><td>73.93105958068845</td></tr><tr><td>Laura Stevenson     </td><td>17</td><td>Year 9              </td><td>Bachelor            </td><td>PhD                 </td><td>IB                  </td><td>60.831732945</td><td>78.40675664145806</td><td>97.96764629805725</td><td>88.61363374316208</td><td>56.93977472325607</td><td>73.51770899146993</td><td>79.38763901238035</td><td>94.20471029123688</td><td>84.07843266022601</td><td>66.70860304269327</td></tr><tr><td>Jon Williamson      </td><td>17</td><td>Year 12             </td><td>High School         </td><td>None                </td><td>IB                  </td><td>86.64307032527246</td><td>76.59593948455257</td><td>91.41807957157914</td><td>100.0</td><td>86.78843857662778</td><td>85.08612632778147</td><td>49.69517418343872</td><td>58.60697230763115</td><td>80.01024950199998</td><td>85.63610190524025</td></tr><tr><td>Ashley Rogers       </td><td>17</td><td>Year 12             </td><td>High School         </td><td>High School         </td><td>IGCSE               </td><td>77.49866319122742</td><td>85.98912638887602</td><td>67.74451985826644</td><td>74.60256839836768</td><td>70.19326481420306</td><td>66.204522285</td><td>63.33089797734879</td><td>83.2329470565999</td><td>81.28970189791393</td><td>94.83431541513848</td></tr><tr><td>Robert Hill         </td><td>17</td><td>Year 10             </td><td>PhD                 </td><td>High School         </td><td>IB                  </td><td>66.79950960115758</td><td>78.93701802019078</td><td>70.280023616</td><td>100.0</td><td>87.15163861005651</td><td>90.60351059093203</td><td>84.08718530114947</td><td>74.83916125869473</td><td>82.9369696929576</td><td>72.32562703654828</td></tr><tr><td>Joseph Long         </td><td>14</td><td>Year 10             </td><td>PhD                 </td><td>High School         </td><td>IB                  </td><td>93.16506218460296</td><td>100.0</td><td>58.40790647661241</td><td>73.16179826433341</td><td>76.71711153779749</td><td>74.24106330757043</td><td>90.05907655275462</td><td>68.73815516777978</td><td>85.86081493585138</td><td>95.174997692</td></tr><tr><td>Larry Cole          </td><td>15</td><td>Year 12             </td><td>High School         </td><td>Bachelor            </td><td>IGCSE               </td><td>87.04211117783566</td><td>100.0</td><td>69.61195316367106</td><td>79.037442368</td><td>86.90859606760291</td><td>94.44228774145081</td><td>66.26084904846732</td><td>94.63421628056547</td><td>64.80367455386673</td><td>76.04716946104206</td></tr><tr><td>Victor Hampton      </td><td>17</td><td>Year 9              </td><td>Master              </td><td>None                </td><td>IB                  </td><td>76.17940311341182</td><td>85.62566427996397</td><td>78.00303624649126</td><td>72.3606788629931</td><td>92.41446843852135</td><td>83.60423513099998</td><td>83.527889091</td><td>58.45412139207652</td><td>38.89136520171788</td><td>79.62295677840697</td></tr><tr><td>Cameron Fox         </td><td>15</td><td>Year 9              </td><td>Bachelor            </td><td>Bachelor            </td><td>IGCSE               </td><td>81.74688246120532</td><td>66.80261419110434</td><td>62.842212969</td><td>83.05201294818464</td><td>99.61370104218936</td><td>75.63745395880744</td><td>82.32919623750414</td><td>97.02888022448943</td><td>73.38380410457601</td><td>54.900633257059226</td></tr><tr><td>Amy Schneider       </td><td>18</td><td>Year 9              </td><td>PhD                 </td><td>None                </td><td>IB                  </td><td>80.4278042501859</td><td>47.18754552020607</td><td>100.0</td><td>84.792050853</td><td>100.0</td><td>48.43925456411241</td><td>66.740567407</td><td>71.67556183840897</td><td>64.99977506363021</td><td>72.006942231</td></tr><tr><td>Timothy Miller      </td><td>18</td><td>Year 9              </td><td>Bachelor            </td><td>None                </td><td>IB                  </td><td>67.97296316680881</td><td>45.74814688505207</td><td>61.32487500668053</td><td>69.143716228</td><td>100.0</td><td>100.0</td><td>83.55903792715367</td><td>82.7663841359127</td><td>56.63119866032344</td><td>65.06241804862084</td></tr><tr><td>Carol Jenkins       </td><td>18</td><td>Year 11             </td><td>High School         </td><td>Bachelor            </td><td>Thanweya            </td><td>91.17448634228269</td><td>56.86271775335434</td><td>76.97869959499916</td><td>62.57216800583376</td><td>68.01441061</td><td>95.45834991939152</td><td>80.60086625942422</td><td>90.58445120744824</td><td>58.725267098212974</td><td>80.97144584329173</td></tr><tr><td>Nicole Thomas       </td><td>15</td><td>Year 10             </td><td>Bachelor            </td><td>High School         </td><td>IGCSE               </td><td>72.55236344034972</td><td>82.59855555523795</td><td>60.91390086541875</td><td>84.79406798447185</td><td>75.34106489575731</td><td>68.083985382</td><td>69.467830232</td><td>90.49179110272412</td><td>58.18078434468261</td><td>54.64648019672477</td></tr><tr><td>Nicholas Parker     </td><td>16</td><td>Year 9              </td><td>Bachelor            </td><td>Master              </td><td>Thanweya            </td><td>75.64996426404288</td><td>92.47596348323084</td><td>78.58044488895086</td><td>83.58987122178955</td><td>72.76822374951122</td><td>62.73366689792911</td><td>54.34551129835323</td><td>70.88396573846133</td><td>96.5989692487258</td><td>42.38545556482182</td></tr><tr><td>Mr. James Anderson  </td><td>18</td><td>Year 11             </td><td>None                </td><td>Bachelor            </td><td>IGCSE               </td><td>74.99607086047911</td><td>63.208548105783535</td><td>92.00296209428888</td><td>52.70770045438954</td><td>76.90955000858764</td><td>85.42349783799708</td><td>87.13702719512848</td><td>56.23758308881938</td><td>85.7194274711598</td><td>91.87285087673064</td></tr><tr><td>Erica Moore         </td><td>18</td><td>Year 9              </td><td>High School         </td><td>None                </td><td>IB                  </td><td>70.595469467</td><td>67.15610199229664</td><td>77.84334255638174</td><td>73.45293417386965</td><td>51.01318967164704</td><td>62.98984932783021</td><td>48.353813406</td><td>58.48602544359765</td><td>74.98599488437067</td><td>64.73451856757983</td></tr><tr><td>Andrea Hill         </td><td>15</td><td>Year 10             </td><td>PhD                 </td><td>Master              </td><td>IB                  </td><td>61.1377025367342</td><td>81.15047350896283</td><td>75.99407596369387</td><td>60.308918900741965</td><td>70.78787828154606</td><td>84.225483661</td><td>40.35839680527933</td><td>63.51023588807318</td><td>45.663215115090566</td><td>82.16368768410598</td></tr><tr><td>Barbara Carlson     </td><td>17</td><td>Year 10             </td><td>High School         </td><td>Bachelor            </td><td>Thanweya            </td><td>64.40371732954561</td><td>40.41219087676727</td><td>59.07985469033864</td><td>70.82142092645971</td><td>100.0</td><td>85.24207247635078</td><td>78.54482983887921</td><td>66.16162854793963</td><td>73.56818942800813</td><td>69.20424504809561</td></tr><tr><td>Lori Parks          </td><td>17</td><td>Year 11             </td><td>Bachelor            </td><td>PhD                 </td><td>IB                  </td><td>72.63560648958726</td><td>49.413102239006655</td><td>59.65639042643053</td><td>100.0</td><td>77.15032270329993</td><td>60.99864408145993</td><td>56.65344115119494</td><td>88.58609228374483</td><td>44.77222037596294</td><td>74.77045704601761</td></tr><tr><td>Patricia Black      </td><td>14</td><td>Year 10             </td><td>High School         </td><td>High School         </td><td>IGCSE               </td><td>68.92897590265252</td><td>81.25190511378575</td><td>90.32643594289608</td><td>86.78853288124103</td><td>74.74776298757102</td><td>96.26736416772364</td><td>79.84511892786554</td><td>83.20745984052985</td><td>100.0</td><td>68.38817796091107</td></tr><tr><td>Allison Lang        </td><td>18</td><td>Year 9              </td><td>High School         </td><td>High School         </td><td>IB                  </td><td>72.23673953300614</td><td>85.93114936966514</td><td>65.69851271532883</td><td>84.1638444286312</td><td>78.17941373663007</td><td>50.57820887095305</td><td>70.071681039</td><td>80.29450850418387</td><td>72.70974127694512</td><td>59.08067817625046</td></tr><tr><td>Jaclyn Mcneil       </td><td>14</td><td>Year 9              </td><td>Bachelor            </td><td>PhD                 </td><td>IB                  </td><td>91.60307770488868</td><td>73.18642672130893</td><td>64.24023932483671</td><td>47.78654246153686</td><td>83.13858065509869</td><td>66.91370171778615</td><td>42.58721142600236</td><td>87.99700880410457</td><td>89.17686207511792</td><td>78.49315791112478</td></tr><tr><td>Melissa Lee         </td><td>16</td><td>Year 10             </td><td>None                </td><td>PhD                 </td><td>IB                  </td><td>100.0</td><td>83.98592336280845</td><td>89.37816212685267</td><td>82.44685282</td><td>86.36881781399998</td><td>90.34702011670538</td><td>100.0</td><td>83.97229648622279</td><td>69.21296090882828</td><td>79.20663405797652</td></tr><tr><td>Timothy Maxwell     </td><td>14</td><td>Year 10             </td><td>Bachelor            </td><td>Bachelor            </td><td>Thanweya            </td><td>91.08213123885534</td><td>100.0</td><td>78.80221976608895</td><td>78.447670476</td><td>64.60623876381095</td><td>82.04542086155328</td><td>69.86909904215277</td><td>91.12287029269561</td><td>95.20775195312397</td><td>52.60270573904484</td></tr><tr><td>Eric Steele         </td><td>17</td><td>Year 11             </td><td>PhD                 </td><td>None                </td><td>IGCSE               </td><td>74.90614373713879</td><td>69.51814562964812</td><td>65.28484123859717</td><td>56.31702841468093</td><td>69.75814006591311</td><td>85.810640538</td><td>63.77695507052932</td><td>61.80259881797415</td><td>84.95113157922286</td><td>68.14646714371376</td></tr><tr><td>Gabriel Brown       </td><td>15</td><td>Year 11             </td><td>Bachelor            </td><td>Master              </td><td>IB                  </td><td>72.52941756567286</td><td>84.63012678528686</td><td>88.03681272553553</td><td>83.41956545808367</td><td>95.99475919148017</td><td>81.41609333837171</td><td>78.75879528636749</td><td>46.53522738538755</td><td>77.55388682762485</td><td>59.4073959342704</td></tr><tr><td>Carolyn Erickson    </td><td>18</td><td>Year 10             </td><td>Bachelor            </td><td>High School         </td><td>IGCSE               </td><td>83.73317015841104</td><td>53.49068149370072</td><td>64.17683213460955</td><td>74.78808222399998</td><td>64.96112953388428</td><td>69.59421204498645</td><td>80.82629496228866</td><td>72.33725697088289</td><td>88.71676789590974</td><td>93.3955624731564</td></tr><tr><td>Anna Mooney         </td><td>14</td><td>Year 12             </td><td>Master              </td><td>PhD                 </td><td>Thanweya            </td><td>61.32451501811476</td><td>65.69472744310949</td><td>56.516955225193136</td><td>76.30063643803929</td><td>78.02510339768803</td><td>71.51054544829633</td><td>64.87042766441473</td><td>45.91552027132794</td><td>42.06997212345946</td><td>69.81213150251212</td></tr><tr><td>Aaron Mullen        </td><td>15</td><td>Year 11             </td><td>PhD                 </td><td>PhD                 </td><td>Thanweya            </td><td>69.81996739734151</td><td>36.82859445886031</td><td>76.87353534307675</td><td>49.365484182</td><td>67.70895743377115</td><td>61.40984749093659</td><td>74.60237362469329</td><td>75.59767729994994</td><td>85.59456445775916</td><td>80.01601676914022</td></tr><tr><td>Carrie Harvey       </td><td>17</td><td>Year 9              </td><td>PhD                 </td><td>None                </td><td>IGCSE               </td><td>52.06411990552364</td><td>75.20175398412893</td><td>80.70579035264221</td><td>67.39014418390616</td><td>78.04519106454602</td><td>69.355050188</td><td>82.10307968923705</td><td>71.72488438060147</td><td>70.87384377877402</td><td>61.598955911</td></tr><tr><td>Amy Robles          </td><td>15</td><td>Year 9              </td><td>Bachelor            </td><td>PhD                 </td><td>IGCSE               </td><td>72.05774324076495</td><td>70.96654957323587</td><td>61.82003614775641</td><td>59.570354868864726</td><td>76.76036705181414</td><td>100.0</td><td>71.59768182234062</td><td>72.30993131092907</td><td>65.08767350279183</td><td>73.93105958068845</td></tr><tr><td>Laura Stevenson     </td><td>17</td><td>Year 9              </td><td>Bachelor            </td><td>PhD                 </td><td>IB                  </td><td>60.831732945</td><td>78.40675664145806</td><td>97.96764629805725</td><td>88.61363374316208</td><td>56.93977472325607</td><td>73.51770899146993</td><td>79.38763901238035</td><td>94.20471029123688</td><td>84.07843266022601</td><td>66.70860304269327</td></tr><tr><td>Jon Williamson      </td><td>17</td><td>Year 12             </td><td>High School         </td><td>None                </td><td>IB                  </td><td>86.64307032527246</td><td>76.59593948455257</td><td>91.41807957157914</td><td>100.0</td><td>86.78843857662778</td><td>85.08612632778147</td><td>49.69517418343872</td><td>58.60697230763115</td><td>80.01024950199998</td><td>85.63610190524025</td></tr><tr><td>Ashley Rogers       </td><td>17</td><td>Year 12             </td><td>High School         </td><td>High School         </td><td>IGCSE               </td><td>77.49866319122742</td><td>85.98912638887602</td><td>67.74451985826644</td><td>74.60256839836768</td><td>70.19326481420306</td><td>66.204522285</td><td>63.33089797734879</td><td>83.2329470565999</td><td>81.28970189791393</td><td>94.83431541513848</td></tr><tr><td>Robert Hill         </td><td>17</td><td>Year 10             </td><td>PhD                 </td><td>High School         </td><td>IB                  </td><td>66.79950960115758</td><td>78.93701802019078</td><td>70.280023616</td><td>100.0</td><td>87.15163861005651</td><td>90.60351059093203</td><td>84.08718530114947</td><td>74.83916125869473</td><td>82.9369696929576</td><td>72.32562703654828</td></tr><tr><td>Joseph Long         </td><td>14</td><td>Year 10             </td><td>PhD                 </td><td>High School         </td><td>IB                  </td><td>93.16506218460296</td><td>100.0</td><td>58.40790647661241</td><td>73.16179826433341</td><td>76.71711153779749</td><td>74.24106330757043</td><td>90.05907655275462</td><td>68.73815516777978</td><td>85.86081493585138</td><td>95.174997692</td></tr><tr><td>Larry Cole          </td><td>15</td><td>Year 12             </td><td>High School         </td><td>Bachelor            </td><td>IGCSE               </td><td>87.04211117783566</td><td>100.0</td><td>69.61195316367106</td><td>79.037442368</td><td>86.90859606760291</td><td>94.44228774145081</td><td>66.26084904846732</td><td>94.63421628056547</td><td>64.80367455386673</td><td>76.04716946104206</td></tr><tr><td>Victor Hampton      </td><td>17</td><td>Year 9              </td><td>Master              </td><td>None                </td><td>IB                  </td><td>76.17940311341182</td><td>85.62566427996397</td><td>78.00303624649126</td><td>72.3606788629931</td><td>92.41446843852135</td><td>83.60423513099998</td><td>83.527889091</td><td>58.45412139207652</td><td>38.89136520171788</td><td>79.62295677840697</td></tr><tr><td>Cameron Fox         </td><td>15</td><td>Year 9              </td><td>Bachelor            </td><td>Bachelor            </td><td>IGCSE               </td><td>81.74688246120532</td><td>66.80261419110434</td><td>62.842212969</td><td>83.05201294818464</td><td>99.61370104218936</td><td>75.63745395880744</td><td>82.32919623750414</td><td>97.02888022448943</td><td>73.38380410457601</td><td>54.900633257059226</td></tr><tr><td>Amy Schneider       </td><td>18</td><td>Year 9              </td><td>PhD                 </td><td>None                </td><td>IB                  </td><td>80.4278042501859</td><td>47.18754552020607</td><td>100.0</td><td>84.792050853</td><td>100.0</td><td>48.43925456411241</td><td>66.740567407</td><td>71.67556183840897</td><td>64.99977506363021</td><td>72.006942231</td></tr><tr><td>Timothy Miller      </td><td>18</td><td>Year 9              </td><td>Bachelor            </td><td>None                </td><td>IB                  </td><td>67.97296316680881</td><td>45.74814688505207</td><td>61.32487500668053</td><td>69.143716228</td><td>100.0</td><td>100.0</td><td>83.55903792715367</td><td>82.7663841359127</td><td>56.63119866032344</td><td>65.06241804862084</td></tr><tr><td>Carol Jenkins       </td><td>18</td><td>Year 11             </td><td>High School         </td><td>Bachelor            </td><td>Thanweya            </td><td>91.17448634228269</td><td>56.86271775335434</td><td>76.97869959499916</td><td>62.57216800583376</td><td>68.01441061</td><td>95.45834991939152</td><td>80.60086625942422</td><td>90.58445120744824</td><td>58.725267098212974</td><td>80.97144584329173</td></tr><tr><td>Nicole Thomas       </td><td>15</td><td>Year 10             </td><td>Bachelor            </td><td>High School         </td><td>IGCSE               </td><td>72.55236344034972</td><td>82.59855555523795</td><td>60.91390086541875</td><td>84.79406798447185</td><td>75.34106489575731</td><td>68.083985382</td><td>69.467830232</td><td>90.49179110272412</td><td>58.18078434468261</td><td>54.64648019672477</td></tr><tr><td>Nicholas Parker     </td><td>16</td><td>Year 9              </td><td>Bachelor            </td><td>Master              </td><td>Thanweya            </td><td>75.64996426404288</td><td>92.47596348323084</td><td>78.58044488895086</td><td>83.58987122178955</td><td>72.76822374951122</td><td>62.73366689792911</td><td>54.34551129835323</td><td>70.88396573846133</td><td>96.5989692487258</td><td>42.38545556482182</td></tr><tr><td>Mr. James Anderson  </td><td>18</td><td>Year 11             </td><td>None                </td><td>Bachelor            </td><td>IGCSE               </td><td>74.99607086047911</td><td>63.208548105783535</td><td>92.00296209428888</td><td>52.70770045438954</td><td>76.90955000858764</td><td>85.42349783799708</td><td>87.13702719512848</td><td>56.23758308881938</td><td>85.7194274711598</td><td>91.87285087673064</td></tr><tr><td>Erica Moore         </td><td>18</td><td>Year 9              </td><td>High School         </td><td>None                </td><td>IB                  </td><td>70.595469467</td><td>67.15610199229664</td><td>77.84334255638174</td><td>73.45293417386965</td><td>51.01318967164704</td><td>62.98984932783021</td><td>48.353813406</td><td>58.48602544359765</td><td>74.98599488437067</td><td>64.73451856757983</td></tr><tr><td>Andrea Hill         </td><td>15</td><td>Year 10             </td><td>PhD                 </td><td>Master              </td><td>IB                  </td><td>61.1377025367342</td><td>81.15047350896283</td><td>75.99407596369387</td><td>60.308918900741965</td><td>70.78787828154606</td><td>84.225483661</td><td>40.35839680527933</td><td>63.51023588807318</td><td>45.663215115090566</td><td>82.16368768410598</td></tr><tr><td>Barbara Carlson     </td><td>17</td><td>Year 10             </td><td>High School         </td><td>Bachelor            </td><td>Thanweya            </td><td>64.40371732954561</td><td>40.41219087676727</td><td>59.07985469033864</td><td>70.82142092645971</td><td>100.0</td><td>85.24207247635078</td><td>78.54482983887921</td><td>66.16162854793963</td><td>73.56818942800813</td><td>69.20424504809561</td></tr><tr><td>Lori Parks          </td><td>17</td><td>Year 11             </td><td>Bachelor            </td><td>PhD                 </td><td>IB                  </td><td>72.63560648958726</td><td>49.413102239006655</td><td>59.65639042643053</td><td>100.0</td><td>77.15032270329993</td><td>60.99864408145993</td><td>56.65344115119494</td><td>88.58609228374483</td><td>44.77222037596294</td><td>74.77045704601761</td></tr><tr><td>Patricia Black      </td><td>14</td><td>Year 10             </td><td>High School         </td><td>High School         </td><td>IGCSE               </td><td>68.92897590265252</td><td>81.25190511378575</td><td>90.32643594289608</td><td>86.78853288124103</td><td>74.74776298757102</td><td>96.26736416772364</td><td>79.84511892786554</td><td>83.20745984052985</td><td>100.0</td><td>68.38817796091107</td></tr></tbody></table></div>"
      ]
     },
     "metadata": {
      "application/vnd.databricks.v1+output": {
       "addedWidgets": {},
       "aggData": [],
       "aggError": "",
       "aggOverflow": false,
       "aggSchema": [],
       "aggSeriesLimitReached": false,
       "aggType": "",
       "arguments": {},
       "columnCustomDisplayInfos": {},
       "data": [
        [
         "Allison Lang        ",
         18,
         "Year 9              ",
         "High School         ",
         "High School         ",
         "IB                  ",
         72.23673953300614,
         85.93114936966514,
         65.69851271532883,
         84.1638444286312,
         78.17941373663007,
         50.57820887095305,
         70.071681039,
         80.29450850418387,
         72.70974127694512,
         59.08067817625046
        ],
        [
         "Jaclyn Mcneil       ",
         14,
         "Year 9              ",
         "Bachelor            ",
         "PhD                 ",
         "IB                  ",
         91.60307770488868,
         73.18642672130893,
         64.24023932483671,
         47.78654246153686,
         83.13858065509869,
         66.91370171778615,
         42.58721142600236,
         87.99700880410457,
         89.17686207511792,
         78.49315791112478
        ],
        [
         "Melissa Lee         ",
         16,
         "Year 10             ",
         "None                ",
         "PhD                 ",
         "IB                  ",
         100,
         83.98592336280845,
         89.37816212685267,
         82.44685282,
         86.36881781399998,
         90.34702011670538,
         100,
         83.97229648622279,
         69.21296090882828,
         79.20663405797652
        ],
        [
         "Timothy Maxwell     ",
         14,
         "Year 10             ",
         "Bachelor            ",
         "Bachelor            ",
         "Thanweya            ",
         91.08213123885534,
         100,
         78.80221976608895,
         78.447670476,
         64.60623876381095,
         82.04542086155328,
         69.86909904215277,
         91.12287029269561,
         95.20775195312397,
         52.60270573904484
        ],
        [
         "Eric Steele         ",
         17,
         "Year 11             ",
         "PhD                 ",
         "None                ",
         "IGCSE               ",
         74.90614373713879,
         69.51814562964812,
         65.28484123859717,
         56.31702841468093,
         69.75814006591311,
         85.810640538,
         63.77695507052932,
         61.80259881797415,
         84.95113157922286,
         68.14646714371376
        ],
        [
         "Gabriel Brown       ",
         15,
         "Year 11             ",
         "Bachelor            ",
         "Master              ",
         "IB                  ",
         72.52941756567286,
         84.63012678528686,
         88.03681272553553,
         83.41956545808367,
         95.99475919148017,
         81.41609333837171,
         78.75879528636749,
         46.53522738538755,
         77.55388682762485,
         59.4073959342704
        ],
        [
         "Carolyn Erickson    ",
         18,
         "Year 10             ",
         "Bachelor            ",
         "High School         ",
         "IGCSE               ",
         83.73317015841104,
         53.49068149370072,
         64.17683213460955,
         74.78808222399998,
         64.96112953388428,
         69.59421204498645,
         80.82629496228866,
         72.33725697088289,
         88.71676789590974,
         93.3955624731564
        ],
        [
         "Anna Mooney         ",
         14,
         "Year 12             ",
         "Master              ",
         "PhD                 ",
         "Thanweya            ",
         61.32451501811476,
         65.69472744310949,
         56.516955225193136,
         76.30063643803929,
         78.02510339768803,
         71.51054544829633,
         64.87042766441473,
         45.91552027132794,
         42.06997212345946,
         69.81213150251212
        ],
        [
         "Aaron Mullen        ",
         15,
         "Year 11             ",
         "PhD                 ",
         "PhD                 ",
         "Thanweya            ",
         69.81996739734151,
         36.82859445886031,
         76.87353534307675,
         49.365484182,
         67.70895743377115,
         61.40984749093659,
         74.60237362469329,
         75.59767729994994,
         85.59456445775916,
         80.01601676914022
        ],
        [
         "Carrie Harvey       ",
         17,
         "Year 9              ",
         "PhD                 ",
         "None                ",
         "IGCSE               ",
         52.06411990552364,
         75.20175398412893,
         80.70579035264221,
         67.39014418390616,
         78.04519106454602,
         69.355050188,
         82.10307968923705,
         71.72488438060147,
         70.87384377877402,
         61.598955911
        ],
        [
         "Amy Robles          ",
         15,
         "Year 9              ",
         "Bachelor            ",
         "PhD                 ",
         "IGCSE               ",
         72.05774324076495,
         70.96654957323587,
         61.82003614775641,
         59.570354868864726,
         76.76036705181414,
         100,
         71.59768182234062,
         72.30993131092907,
         65.08767350279183,
         73.93105958068845
        ],
        [
         "Laura Stevenson     ",
         17,
         "Year 9              ",
         "Bachelor            ",
         "PhD                 ",
         "IB                  ",
         60.831732945,
         78.40675664145806,
         97.96764629805725,
         88.61363374316208,
         56.93977472325607,
         73.51770899146993,
         79.38763901238035,
         94.20471029123688,
         84.07843266022601,
         66.70860304269327
        ],
        [
         "Jon Williamson      ",
         17,
         "Year 12             ",
         "High School         ",
         "None                ",
         "IB                  ",
         86.64307032527246,
         76.59593948455257,
         91.41807957157914,
         100,
         86.78843857662778,
         85.08612632778147,
         49.69517418343872,
         58.60697230763115,
         80.01024950199998,
         85.63610190524025
        ],
        [
         "Ashley Rogers       ",
         17,
         "Year 12             ",
         "High School         ",
         "High School         ",
         "IGCSE               ",
         77.49866319122742,
         85.98912638887602,
         67.74451985826644,
         74.60256839836768,
         70.19326481420306,
         66.204522285,
         63.33089797734879,
         83.2329470565999,
         81.28970189791393,
         94.83431541513848
        ],
        [
         "Robert Hill         ",
         17,
         "Year 10             ",
         "PhD                 ",
         "High School         ",
         "IB                  ",
         66.79950960115758,
         78.93701802019078,
         70.280023616,
         100,
         87.15163861005651,
         90.60351059093203,
         84.08718530114947,
         74.83916125869473,
         82.9369696929576,
         72.32562703654828
        ],
        [
         "Joseph Long         ",
         14,
         "Year 10             ",
         "PhD                 ",
         "High School         ",
         "IB                  ",
         93.16506218460296,
         100,
         58.40790647661241,
         73.16179826433341,
         76.71711153779749,
         74.24106330757043,
         90.05907655275462,
         68.73815516777978,
         85.86081493585138,
         95.174997692
        ],
        [
         "Larry Cole          ",
         15,
         "Year 12             ",
         "High School         ",
         "Bachelor            ",
         "IGCSE               ",
         87.04211117783566,
         100,
         69.61195316367106,
         79.037442368,
         86.90859606760291,
         94.44228774145081,
         66.26084904846732,
         94.63421628056547,
         64.80367455386673,
         76.04716946104206
        ],
        [
         "Victor Hampton      ",
         17,
         "Year 9              ",
         "Master              ",
         "None                ",
         "IB                  ",
         76.17940311341182,
         85.62566427996397,
         78.00303624649126,
         72.3606788629931,
         92.41446843852135,
         83.60423513099998,
         83.527889091,
         58.45412139207652,
         38.89136520171788,
         79.62295677840697
        ],
        [
         "Cameron Fox         ",
         15,
         "Year 9              ",
         "Bachelor            ",
         "Bachelor            ",
         "IGCSE               ",
         81.74688246120532,
         66.80261419110434,
         62.842212969,
         83.05201294818464,
         99.61370104218936,
         75.63745395880744,
         82.32919623750414,
         97.02888022448943,
         73.38380410457601,
         54.900633257059226
        ],
        [
         "Amy Schneider       ",
         18,
         "Year 9              ",
         "PhD                 ",
         "None                ",
         "IB                  ",
         80.4278042501859,
         47.18754552020607,
         100,
         84.792050853,
         100,
         48.43925456411241,
         66.740567407,
         71.67556183840897,
         64.99977506363021,
         72.006942231
        ],
        [
         "Timothy Miller      ",
         18,
         "Year 9              ",
         "Bachelor            ",
         "None                ",
         "IB                  ",
         67.97296316680881,
         45.74814688505207,
         61.32487500668053,
         69.143716228,
         100,
         100,
         83.55903792715367,
         82.7663841359127,
         56.63119866032344,
         65.06241804862084
        ],
        [
         "Carol Jenkins       ",
         18,
         "Year 11             ",
         "High School         ",
         "Bachelor            ",
         "Thanweya            ",
         91.17448634228269,
         56.86271775335434,
         76.97869959499916,
         62.57216800583376,
         68.01441061,
         95.45834991939152,
         80.60086625942422,
         90.58445120744824,
         58.725267098212974,
         80.97144584329173
        ],
        [
         "Nicole Thomas       ",
         15,
         "Year 10             ",
         "Bachelor            ",
         "High School         ",
         "IGCSE               ",
         72.55236344034972,
         82.59855555523795,
         60.91390086541875,
         84.79406798447185,
         75.34106489575731,
         68.083985382,
         69.467830232,
         90.49179110272412,
         58.18078434468261,
         54.64648019672477
        ],
        [
         "Nicholas Parker     ",
         16,
         "Year 9              ",
         "Bachelor            ",
         "Master              ",
         "Thanweya            ",
         75.64996426404288,
         92.47596348323084,
         78.58044488895086,
         83.58987122178955,
         72.76822374951122,
         62.73366689792911,
         54.34551129835323,
         70.88396573846133,
         96.5989692487258,
         42.38545556482182
        ],
        [
         "Mr. James Anderson  ",
         18,
         "Year 11             ",
         "None                ",
         "Bachelor            ",
         "IGCSE               ",
         74.99607086047911,
         63.208548105783535,
         92.00296209428888,
         52.70770045438954,
         76.90955000858764,
         85.42349783799708,
         87.13702719512848,
         56.23758308881938,
         85.7194274711598,
         91.87285087673064
        ],
        [
         "Erica Moore         ",
         18,
         "Year 9              ",
         "High School         ",
         "None                ",
         "IB                  ",
         70.595469467,
         67.15610199229664,
         77.84334255638174,
         73.45293417386965,
         51.01318967164704,
         62.98984932783021,
         48.353813406,
         58.48602544359765,
         74.98599488437067,
         64.73451856757983
        ],
        [
         "Andrea Hill         ",
         15,
         "Year 10             ",
         "PhD                 ",
         "Master              ",
         "IB                  ",
         61.1377025367342,
         81.15047350896283,
         75.99407596369387,
         60.308918900741965,
         70.78787828154606,
         84.225483661,
         40.35839680527933,
         63.51023588807318,
         45.663215115090566,
         82.16368768410598
        ],
        [
         "Barbara Carlson     ",
         17,
         "Year 10             ",
         "High School         ",
         "Bachelor            ",
         "Thanweya            ",
         64.40371732954561,
         40.41219087676727,
         59.07985469033864,
         70.82142092645971,
         100,
         85.24207247635078,
         78.54482983887921,
         66.16162854793963,
         73.56818942800813,
         69.20424504809561
        ],
        [
         "Lori Parks          ",
         17,
         "Year 11             ",
         "Bachelor            ",
         "PhD                 ",
         "IB                  ",
         72.63560648958726,
         49.413102239006655,
         59.65639042643053,
         100,
         77.15032270329993,
         60.99864408145993,
         56.65344115119494,
         88.58609228374483,
         44.77222037596294,
         74.77045704601761
        ],
        [
         "Patricia Black      ",
         14,
         "Year 10             ",
         "High School         ",
         "High School         ",
         "IGCSE               ",
         68.92897590265252,
         81.25190511378575,
         90.32643594289608,
         86.78853288124103,
         74.74776298757102,
         96.26736416772364,
         79.84511892786554,
         83.20745984052985,
         100,
         68.38817796091107
        ],
        [
         "Allison Lang        ",
         18,
         "Year 9              ",
         "High School         ",
         "High School         ",
         "IB                  ",
         72.23673953300614,
         85.93114936966514,
         65.69851271532883,
         84.1638444286312,
         78.17941373663007,
         50.57820887095305,
         70.071681039,
         80.29450850418387,
         72.70974127694512,
         59.08067817625046
        ],
        [
         "Jaclyn Mcneil       ",
         14,
         "Year 9              ",
         "Bachelor            ",
         "PhD                 ",
         "IB                  ",
         91.60307770488868,
         73.18642672130893,
         64.24023932483671,
         47.78654246153686,
         83.13858065509869,
         66.91370171778615,
         42.58721142600236,
         87.99700880410457,
         89.17686207511792,
         78.49315791112478
        ],
        [
         "Melissa Lee         ",
         16,
         "Year 10             ",
         "None                ",
         "PhD                 ",
         "IB                  ",
         100,
         83.98592336280845,
         89.37816212685267,
         82.44685282,
         86.36881781399998,
         90.34702011670538,
         100,
         83.97229648622279,
         69.21296090882828,
         79.20663405797652
        ],
        [
         "Timothy Maxwell     ",
         14,
         "Year 10             ",
         "Bachelor            ",
         "Bachelor            ",
         "Thanweya            ",
         91.08213123885534,
         100,
         78.80221976608895,
         78.447670476,
         64.60623876381095,
         82.04542086155328,
         69.86909904215277,
         91.12287029269561,
         95.20775195312397,
         52.60270573904484
        ],
        [
         "Eric Steele         ",
         17,
         "Year 11             ",
         "PhD                 ",
         "None                ",
         "IGCSE               ",
         74.90614373713879,
         69.51814562964812,
         65.28484123859717,
         56.31702841468093,
         69.75814006591311,
         85.810640538,
         63.77695507052932,
         61.80259881797415,
         84.95113157922286,
         68.14646714371376
        ],
        [
         "Gabriel Brown       ",
         15,
         "Year 11             ",
         "Bachelor            ",
         "Master              ",
         "IB                  ",
         72.52941756567286,
         84.63012678528686,
         88.03681272553553,
         83.41956545808367,
         95.99475919148017,
         81.41609333837171,
         78.75879528636749,
         46.53522738538755,
         77.55388682762485,
         59.4073959342704
        ],
        [
         "Carolyn Erickson    ",
         18,
         "Year 10             ",
         "Bachelor            ",
         "High School         ",
         "IGCSE               ",
         83.73317015841104,
         53.49068149370072,
         64.17683213460955,
         74.78808222399998,
         64.96112953388428,
         69.59421204498645,
         80.82629496228866,
         72.33725697088289,
         88.71676789590974,
         93.3955624731564
        ],
        [
         "Anna Mooney         ",
         14,
         "Year 12             ",
         "Master              ",
         "PhD                 ",
         "Thanweya            ",
         61.32451501811476,
         65.69472744310949,
         56.516955225193136,
         76.30063643803929,
         78.02510339768803,
         71.51054544829633,
         64.87042766441473,
         45.91552027132794,
         42.06997212345946,
         69.81213150251212
        ],
        [
         "Aaron Mullen        ",
         15,
         "Year 11             ",
         "PhD                 ",
         "PhD                 ",
         "Thanweya            ",
         69.81996739734151,
         36.82859445886031,
         76.87353534307675,
         49.365484182,
         67.70895743377115,
         61.40984749093659,
         74.60237362469329,
         75.59767729994994,
         85.59456445775916,
         80.01601676914022
        ],
        [
         "Carrie Harvey       ",
         17,
         "Year 9              ",
         "PhD                 ",
         "None                ",
         "IGCSE               ",
         52.06411990552364,
         75.20175398412893,
         80.70579035264221,
         67.39014418390616,
         78.04519106454602,
         69.355050188,
         82.10307968923705,
         71.72488438060147,
         70.87384377877402,
         61.598955911
        ],
        [
         "Amy Robles          ",
         15,
         "Year 9              ",
         "Bachelor            ",
         "PhD                 ",
         "IGCSE               ",
         72.05774324076495,
         70.96654957323587,
         61.82003614775641,
         59.570354868864726,
         76.76036705181414,
         100,
         71.59768182234062,
         72.30993131092907,
         65.08767350279183,
         73.93105958068845
        ],
        [
         "Laura Stevenson     ",
         17,
         "Year 9              ",
         "Bachelor            ",
         "PhD                 ",
         "IB                  ",
         60.831732945,
         78.40675664145806,
         97.96764629805725,
         88.61363374316208,
         56.93977472325607,
         73.51770899146993,
         79.38763901238035,
         94.20471029123688,
         84.07843266022601,
         66.70860304269327
        ],
        [
         "Jon Williamson      ",
         17,
         "Year 12             ",
         "High School         ",
         "None                ",
         "IB                  ",
         86.64307032527246,
         76.59593948455257,
         91.41807957157914,
         100,
         86.78843857662778,
         85.08612632778147,
         49.69517418343872,
         58.60697230763115,
         80.01024950199998,
         85.63610190524025
        ],
        [
         "Ashley Rogers       ",
         17,
         "Year 12             ",
         "High School         ",
         "High School         ",
         "IGCSE               ",
         77.49866319122742,
         85.98912638887602,
         67.74451985826644,
         74.60256839836768,
         70.19326481420306,
         66.204522285,
         63.33089797734879,
         83.2329470565999,
         81.28970189791393,
         94.83431541513848
        ],
        [
         "Robert Hill         ",
         17,
         "Year 10             ",
         "PhD                 ",
         "High School         ",
         "IB                  ",
         66.79950960115758,
         78.93701802019078,
         70.280023616,
         100,
         87.15163861005651,
         90.60351059093203,
         84.08718530114947,
         74.83916125869473,
         82.9369696929576,
         72.32562703654828
        ],
        [
         "Joseph Long         ",
         14,
         "Year 10             ",
         "PhD                 ",
         "High School         ",
         "IB                  ",
         93.16506218460296,
         100,
         58.40790647661241,
         73.16179826433341,
         76.71711153779749,
         74.24106330757043,
         90.05907655275462,
         68.73815516777978,
         85.86081493585138,
         95.174997692
        ],
        [
         "Larry Cole          ",
         15,
         "Year 12             ",
         "High School         ",
         "Bachelor            ",
         "IGCSE               ",
         87.04211117783566,
         100,
         69.61195316367106,
         79.037442368,
         86.90859606760291,
         94.44228774145081,
         66.26084904846732,
         94.63421628056547,
         64.80367455386673,
         76.04716946104206
        ],
        [
         "Victor Hampton      ",
         17,
         "Year 9              ",
         "Master              ",
         "None                ",
         "IB                  ",
         76.17940311341182,
         85.62566427996397,
         78.00303624649126,
         72.3606788629931,
         92.41446843852135,
         83.60423513099998,
         83.527889091,
         58.45412139207652,
         38.89136520171788,
         79.62295677840697
        ],
        [
         "Cameron Fox         ",
         15,
         "Year 9              ",
         "Bachelor            ",
         "Bachelor            ",
         "IGCSE               ",
         81.74688246120532,
         66.80261419110434,
         62.842212969,
         83.05201294818464,
         99.61370104218936,
         75.63745395880744,
         82.32919623750414,
         97.02888022448943,
         73.38380410457601,
         54.900633257059226
        ],
        [
         "Amy Schneider       ",
         18,
         "Year 9              ",
         "PhD                 ",
         "None                ",
         "IB                  ",
         80.4278042501859,
         47.18754552020607,
         100,
         84.792050853,
         100,
         48.43925456411241,
         66.740567407,
         71.67556183840897,
         64.99977506363021,
         72.006942231
        ],
        [
         "Timothy Miller      ",
         18,
         "Year 9              ",
         "Bachelor            ",
         "None                ",
         "IB                  ",
         67.97296316680881,
         45.74814688505207,
         61.32487500668053,
         69.143716228,
         100,
         100,
         83.55903792715367,
         82.7663841359127,
         56.63119866032344,
         65.06241804862084
        ],
        [
         "Carol Jenkins       ",
         18,
         "Year 11             ",
         "High School         ",
         "Bachelor            ",
         "Thanweya            ",
         91.17448634228269,
         56.86271775335434,
         76.97869959499916,
         62.57216800583376,
         68.01441061,
         95.45834991939152,
         80.60086625942422,
         90.58445120744824,
         58.725267098212974,
         80.97144584329173
        ],
        [
         "Nicole Thomas       ",
         15,
         "Year 10             ",
         "Bachelor            ",
         "High School         ",
         "IGCSE               ",
         72.55236344034972,
         82.59855555523795,
         60.91390086541875,
         84.79406798447185,
         75.34106489575731,
         68.083985382,
         69.467830232,
         90.49179110272412,
         58.18078434468261,
         54.64648019672477
        ],
        [
         "Nicholas Parker     ",
         16,
         "Year 9              ",
         "Bachelor            ",
         "Master              ",
         "Thanweya            ",
         75.64996426404288,
         92.47596348323084,
         78.58044488895086,
         83.58987122178955,
         72.76822374951122,
         62.73366689792911,
         54.34551129835323,
         70.88396573846133,
         96.5989692487258,
         42.38545556482182
        ],
        [
         "Mr. James Anderson  ",
         18,
         "Year 11             ",
         "None                ",
         "Bachelor            ",
         "IGCSE               ",
         74.99607086047911,
         63.208548105783535,
         92.00296209428888,
         52.70770045438954,
         76.90955000858764,
         85.42349783799708,
         87.13702719512848,
         56.23758308881938,
         85.7194274711598,
         91.87285087673064
        ],
        [
         "Erica Moore         ",
         18,
         "Year 9              ",
         "High School         ",
         "None                ",
         "IB                  ",
         70.595469467,
         67.15610199229664,
         77.84334255638174,
         73.45293417386965,
         51.01318967164704,
         62.98984932783021,
         48.353813406,
         58.48602544359765,
         74.98599488437067,
         64.73451856757983
        ],
        [
         "Andrea Hill         ",
         15,
         "Year 10             ",
         "PhD                 ",
         "Master              ",
         "IB                  ",
         61.1377025367342,
         81.15047350896283,
         75.99407596369387,
         60.308918900741965,
         70.78787828154606,
         84.225483661,
         40.35839680527933,
         63.51023588807318,
         45.663215115090566,
         82.16368768410598
        ],
        [
         "Barbara Carlson     ",
         17,
         "Year 10             ",
         "High School         ",
         "Bachelor            ",
         "Thanweya            ",
         64.40371732954561,
         40.41219087676727,
         59.07985469033864,
         70.82142092645971,
         100,
         85.24207247635078,
         78.54482983887921,
         66.16162854793963,
         73.56818942800813,
         69.20424504809561
        ],
        [
         "Lori Parks          ",
         17,
         "Year 11             ",
         "Bachelor            ",
         "PhD                 ",
         "IB                  ",
         72.63560648958726,
         49.413102239006655,
         59.65639042643053,
         100,
         77.15032270329993,
         60.99864408145993,
         56.65344115119494,
         88.58609228374483,
         44.77222037596294,
         74.77045704601761
        ],
        [
         "Patricia Black      ",
         14,
         "Year 10             ",
         "High School         ",
         "High School         ",
         "IGCSE               ",
         68.92897590265252,
         81.25190511378575,
         90.32643594289608,
         86.78853288124103,
         74.74776298757102,
         96.26736416772364,
         79.84511892786554,
         83.20745984052985,
         100,
         68.38817796091107
        ]
       ],
       "datasetInfos": [],
       "dbfsResultPath": null,
       "isJsonSchema": true,
       "metadata": {},
       "overflow": false,
       "plotOptions": {
        "customPlotOptions": {},
        "displayType": "table",
        "pivotAggregation": null,
        "pivotColumns": null,
        "xColumns": null,
        "yColumns": null
       },
       "removedWidgets": [],
       "schema": [
        {
         "metadata": "{}",
         "name": "Student_Name",
         "type": "\"string\""
        },
        {
         "metadata": "{}",
         "name": "Student_Age",
         "type": "\"long\""
        },
        {
         "metadata": "{}",
         "name": "Student_Year",
         "type": "\"string\""
        },
        {
         "metadata": "{}",
         "name": "Father_Degree",
         "type": "\"string\""
        },
        {
         "metadata": "{}",
         "name": "Mother_Degree",
         "type": "\"string\""
        },
        {
         "metadata": "{}",
         "name": "Education_Type",
         "type": "\"string\""
        },
        {
         "metadata": "{}",
         "name": "Subject_1",
         "type": "\"double\""
        },
        {
         "metadata": "{}",
         "name": "Subject_2",
         "type": "\"double\""
        },
        {
         "metadata": "{}",
         "name": "Subject_3",
         "type": "\"double\""
        },
        {
         "metadata": "{}",
         "name": "Subject_4",
         "type": "\"double\""
        },
        {
         "metadata": "{}",
         "name": "Subject_5",
         "type": "\"double\""
        },
        {
         "metadata": "{}",
         "name": "Subject_6",
         "type": "\"double\""
        },
        {
         "metadata": "{}",
         "name": "Subject_7",
         "type": "\"double\""
        },
        {
         "metadata": "{}",
         "name": "Subject_8",
         "type": "\"double\""
        },
        {
         "metadata": "{}",
         "name": "Subject_9",
         "type": "\"double\""
        },
        {
         "metadata": "{}",
         "name": "Subject_10",
         "type": "\"double\""
        }
       ],
       "type": "table"
      }
     },
     "output_type": "display_data"
    }
   ],
   "source": [
    "# Check for duplicates in the DataFrame\n",
    "duplicate_count = df_students.duplicated().sum()\n",
    "duplicates = df_students[df_students.duplicated()]\n",
    "\n",
    "# Display duplicate count and any duplicate rows\n",
    "print(f\"Number of duplicate rows: {duplicate_count}\")\n",
    "if duplicate_count > 0:\n",
    "    print(\"Duplicate Rows:\")\n",
    "    display(duplicates)\n",
    "else:\n",
    "    print(\"No duplicates found.\")"
   ]
  },
  {
   "cell_type": "markdown",
   "metadata": {
    "application/vnd.databricks.v1+cell": {
     "cellMetadata": {},
     "inputWidgets": {},
     "nuid": "860e32a7-a248-492f-b63d-63056c1768f5",
     "showTitle": false,
     "title": ""
    }
   },
   "source": [
    "It looks like there are **60 duplicate rows** in your dataset.\n",
    "\n",
    "**Given that you are working with historical data and focusing on analysis and reporting, the best approach to handle the 60 duplicate records will depend on the context of the data and the importance of each record. Here are the recommended approaches based on common scenarios:**\n",
    "\n",
    "**Recommended Approach is to Remove Exact Duplicates**\n",
    "\n",
    "Remove Exact Duplicates:\n",
    " If the duplicates are exact copies of each other and do not contain any unique information, the most straightforward approach is to remove them. This will simplify your dataset and ensure that your analysis is based on unique records.\n",
    "\n",
    "Why This Approach?\n",
    "\n",
    "- Simplicity: It reduces the dataset size without losing valuable information.\n",
    "- Clarity: It ensures that each record represents a unique entry, making analysis and reporting clearer.\n",
    "- Efficiency: It improves performance when processing the dataset for analysis.\n"
   ]
  },
  {
   "cell_type": "code",
   "execution_count": null,
   "metadata": {
    "application/vnd.databricks.v1+cell": {
     "cellMetadata": {
      "byteLimit": 2048000,
      "rowLimit": 10000
     },
     "collapsed": true,
     "inputWidgets": {},
     "nuid": "164caee6-55f4-4049-863c-837a10c96e16",
     "showTitle": false,
     "title": ""
    }
   },
   "outputs": [
    {
     "name": "stdout",
     "output_type": "stream",
     "text": [
      "Exact Duplicates:\n",
      "            Student_Name  Student_Age  ... Subject_10 counts\n",
      "0   Aaron Mullen                   15  ...  80.016017      3\n",
      "1   Allison Lang                   18  ...  59.080678      3\n",
      "2   Amy Robles                     15  ...  73.931060      3\n",
      "3   Amy Schneider                  18  ...  72.006942      3\n",
      "4   Andrea Hill                    15  ...  82.163688      3\n",
      "5   Anna Mooney                    14  ...  69.812132      3\n",
      "6   Ashley Rogers                  17  ...  94.834315      3\n",
      "7   Barbara Carlson                17  ...  69.204245      3\n",
      "8   Cameron Fox                    15  ...  54.900633      3\n",
      "9   Carol Jenkins                  18  ...  80.971446      3\n",
      "10  Carolyn Erickson               18  ...  93.395562      3\n",
      "11  Carrie Harvey                  17  ...  61.598956      3\n",
      "12  Eric Steele                    17  ...  68.146467      3\n",
      "13  Erica Moore                    18  ...  64.734519      3\n",
      "14  Gabriel Brown                  15  ...  59.407396      3\n",
      "15  Jaclyn Mcneil                  14  ...  78.493158      3\n",
      "16  Jon Williamson                 17  ...  85.636102      3\n",
      "17  Joseph Long                    14  ...  95.174998      3\n",
      "18  Larry Cole                     15  ...  76.047169      3\n",
      "19  Laura Stevenson                17  ...  66.708603      3\n",
      "20  Lori Parks                     17  ...  74.770457      3\n",
      "21  Melissa Lee                    16  ...  79.206634      3\n",
      "22  Mr. James Anderson             18  ...  91.872851      3\n",
      "23  Nicholas Parker                16  ...  42.385456      3\n",
      "24  Nicole Thomas                  15  ...  54.646480      3\n",
      "25  Patricia Black                 14  ...  68.388178      3\n",
      "26  Robert Hill                    17  ...  72.325627      3\n",
      "27  Timothy Maxwell                14  ...  52.602706      3\n",
      "28  Timothy Miller                 18  ...  65.062418      3\n",
      "29  Victor Hampton                 17  ...  79.622957      3\n",
      "\n",
      "[30 rows x 17 columns]\n",
      "Some duplicates contain different values in certain columns.\n"
     ]
    }
   ],
   "source": [
    "# Identify duplicates\n",
    "duplicates = df_students[df_students.duplicated(keep=False)]  # keep=False to mark all duplicates\n",
    "\n",
    "# Check if duplicates have any differences in specific columns\n",
    "# Assuming you want to check all columns for differences\n",
    "duplicate_groups = duplicates.groupby(duplicates.columns.tolist()).size().reset_index(name='counts')\n",
    "\n",
    "# Filter groups that have more than one occurrence (indicating duplicates)\n",
    "exact_duplicates = duplicate_groups[duplicate_groups['counts'] > 1]\n",
    "\n",
    "# Display the exact duplicates\n",
    "print(\"Exact Duplicates:\")\n",
    "print(exact_duplicates)\n",
    "\n",
    "# Check for any differences in the original dataset\n",
    "if exact_duplicates.empty:\n",
    "    print(\"All duplicates are exact.\")\n",
    "else:\n",
    "    print(\"Some duplicates contain different values in certain columns.\")"
   ]
  },
  {
   "cell_type": "markdown",
   "metadata": {
    "application/vnd.databricks.v1+cell": {
     "cellMetadata": {},
     "inputWidgets": {},
     "nuid": "f542a998-5227-4a81-9de3-cd315a303b06",
     "showTitle": false,
     "title": ""
    }
   },
   "source": [
    "Based on the output, it appears that we have identified **30 unique records** that are exact duplicates, each appearing **3 times** in the dataset. However, the message \"Some duplicates contain different values in certain columns\" indicates that there are other records in your dataset that are not exact duplicates, meaning they may have variations in some columns.\n",
    "\n",
    "### Next Steps to Handle Duplicates\n",
    "\n",
    "1. **Identify Non-Exact Duplicates**: \n",
    "   - Determine which records are not exact duplicates and identify the columns where they differ.\n",
    "\n",
    "2. **Review Differences**: \n",
    "   - Analyze the differences in the columns of interest to decide how to handle them.\n",
    "\n",
    "3. **Decide on a Strategy**: \n",
    "   - Based on the analysis, choose a strategy for handling these duplicates. Here are some options:\n",
    "     - **Remove Exact Duplicates**: If the duplicates are exact copies, you can remove them.\n",
    "     - **Aggregate Data**: If there are differences in certain columns, consider aggregating the data (e.g., averaging scores).\n",
    "     - **Keep One Version**: If the differences are minor or not significant, you might choose to keep one version of the record."
   ]
  },
  {
   "cell_type": "code",
   "execution_count": null,
   "metadata": {
    "application/vnd.databricks.v1+cell": {
     "cellMetadata": {
      "byteLimit": 2048000,
      "rowLimit": 10000
     },
     "collapsed": true,
     "inputWidgets": {},
     "nuid": "6ccf1239-ab91-4c8b-a657-481fb053468b",
     "showTitle": false,
     "title": ""
    }
   },
   "outputs": [
    {
     "name": "stdout",
     "output_type": "stream",
     "text": [
      "Differences in Non-Exact Duplicates:\n",
      "                                            Student_Year  ...            Subject_10\n",
      "Student_Name         Student_Age                          ...                      \n",
      "Aaron Mullen         15           [Year 11             ]  ...   [80.01601676914022]\n",
      "Allison Lang         18           [Year 9              ]  ...   [59.08067817625046]\n",
      "Amy Robles           15           [Year 9              ]  ...   [73.93105958068845]\n",
      "Amy Schneider        18           [Year 9              ]  ...        [72.006942231]\n",
      "Andrea Hill          15           [Year 10             ]  ...   [82.16368768410598]\n",
      "Anna Mooney          14           [Year 12             ]  ...   [69.81213150251212]\n",
      "Ashley Rogers        17           [Year 12             ]  ...   [94.83431541513848]\n",
      "Barbara Carlson      17           [Year 10             ]  ...   [69.20424504809561]\n",
      "Cameron Fox          15           [Year 9              ]  ...  [54.900633257059226]\n",
      "Carol Jenkins        18           [Year 11             ]  ...   [80.97144584329173]\n",
      "Carolyn Erickson     18           [Year 10             ]  ...    [93.3955624731564]\n",
      "Carrie Harvey        17           [Year 9              ]  ...        [61.598955911]\n",
      "Eric Steele          17           [Year 11             ]  ...   [68.14646714371376]\n",
      "Erica Moore          18           [Year 9              ]  ...   [64.73451856757983]\n",
      "Gabriel Brown        15           [Year 11             ]  ...    [59.4073959342704]\n",
      "Jaclyn Mcneil        14           [Year 9              ]  ...   [78.49315791112478]\n",
      "Jon Williamson       17           [Year 12             ]  ...   [85.63610190524025]\n",
      "Joseph Long          14           [Year 10             ]  ...        [95.174997692]\n",
      "Larry Cole           15           [Year 12             ]  ...   [76.04716946104206]\n",
      "Laura Stevenson      17           [Year 9              ]  ...   [66.70860304269327]\n",
      "Lori Parks           17           [Year 11             ]  ...   [74.77045704601761]\n",
      "Melissa Lee          16           [Year 10             ]  ...   [79.20663405797652]\n",
      "Mr. James Anderson   18           [Year 11             ]  ...   [91.87285087673064]\n",
      "Nicholas Parker      16           [Year 9              ]  ...   [42.38545556482182]\n",
      "Nicole Thomas        15           [Year 10             ]  ...   [54.64648019672477]\n",
      "Patricia Black       14           [Year 10             ]  ...   [68.38817796091107]\n",
      "Robert Hill          17           [Year 10             ]  ...   [72.32562703654828]\n",
      "Timothy Maxwell      14           [Year 10             ]  ...   [52.60270573904484]\n",
      "Timothy Miller       18           [Year 9              ]  ...   [65.06241804862084]\n",
      "Victor Hampton       17           [Year 9              ]  ...   [79.62295677840697]\n",
      "\n",
      "[30 rows x 14 columns]\n"
     ]
    }
   ],
   "source": [
    "\n",
    "### Implementation Steps\n",
    "\n",
    "#### 1. Identify Non-Exact Duplicates\n",
    "\n",
    "# Identify non-exact duplicates\n",
    "non_exact_duplicates = df_students[df_students.duplicated(keep=False) & ~df_students.duplicated(keep='first')]\n",
    "\n",
    "# # Display non-exact duplicates\n",
    "# print(\"Non-Exact Duplicates:\")\n",
    "# print(non_exact_duplicates)\n",
    "\n",
    "# Group by the columns that define a duplicate (e.g., Student_Name, Student_Age)\n",
    "non_exact_groups = non_exact_duplicates.groupby(['Student_Name', 'Student_Age']).agg(lambda x: x.unique().tolist())\n",
    "\n",
    "# Display the differences\n",
    "print(\"Differences in Non-Exact Duplicates:\")\n",
    "print(non_exact_groups)\n",
    "\n",
    "\n"
   ]
  },
  {
   "cell_type": "markdown",
   "metadata": {
    "application/vnd.databricks.v1+cell": {
     "cellMetadata": {},
     "inputWidgets": {},
     "nuid": "5f5e918b-dd6a-46b2-9776-e90db96c3e3b",
     "showTitle": false,
     "title": ""
    }
   },
   "source": [
    "\n",
    "   Since these are exact duplicates, you can safely remove them without losing any information. Using the following code:\n"
   ]
  },
  {
   "cell_type": "code",
   "execution_count": null,
   "metadata": {
    "application/vnd.databricks.v1+cell": {
     "cellMetadata": {
      "byteLimit": 2048000,
      "rowLimit": 10000
     },
     "collapsed": true,
     "inputWidgets": {},
     "nuid": "ab4414fe-0098-4879-91c1-df373aef996d",
     "showTitle": false,
     "title": ""
    }
   },
   "outputs": [
    {
     "name": "stdout",
     "output_type": "stream",
     "text": [
      "Original number of records: 50060\n",
      "Cleaned number of records: 50000\n"
     ]
    }
   ],
   "source": [
    "df_cleaned = df_students.drop_duplicates()\n",
    "print(f\"Original number of records: {df_students.shape[0]}\")\n",
    "print(f\"Cleaned number of records: {df_cleaned.shape[0]}\")"
   ]
  },
  {
   "cell_type": "markdown",
   "metadata": {
    "application/vnd.databricks.v1+cell": {
     "cellMetadata": {},
     "inputWidgets": {},
     "nuid": "f8ffe7ef-758a-424f-83ef-560cefeb07f3",
     "showTitle": false,
     "title": ""
    }
   },
   "source": [
    "\n",
    "   as we can see, the number of records has decreased by 60 (30 duplicate pairs removed)."
   ]
  },
  {
   "cell_type": "markdown",
   "metadata": {
    "application/vnd.databricks.v1+cell": {
     "cellMetadata": {
      "byteLimit": 2048000,
      "rowLimit": 10000
     },
     "inputWidgets": {},
     "nuid": "07baa44b-c920-4b89-8034-bc4620173671",
     "showTitle": false,
     "title": ""
    }
   },
   "source": [
    "## 3. Data Transformation\n",
    "\n",
    "**Objective:** Clean and prepare the data for loading into the Data Warehouse.\n",
    "\n",
    "**Key Steps:**\n",
    "\n",
    "1. **Data Cleaning:** Standardize values (e.g., degrees), check for NaNs, and handle invalid grades.\n",
    "2. **Data Enrichment:** Create new IDs for dimensions based on unique values.\n",
    "3. **Restructure the DataFrame** for the fact and dimension tables.\n"
   ]
  },
  {
   "cell_type": "code",
   "execution_count": null,
   "metadata": {
    "application/vnd.databricks.v1+cell": {
     "cellMetadata": {
      "byteLimit": 2048000,
      "rowLimit": 10000
     },
     "inputWidgets": {},
     "nuid": "0419fd88-b7bc-4af7-9a7b-49f030512903",
     "showTitle": true,
     "title": "his"
    }
   },
   "outputs": [
    {
     "name": "stdout",
     "output_type": "stream",
     "text": [
      "CSV file has been created: abfss://egyptianstudentsv2@newegyptianstudents446.dfs.core.windows.net/transformed-data/dim_student.csv\n",
      "CSV file has been created: abfss://egyptianstudentsv2@newegyptianstudents446.dfs.core.windows.net/transformed-data/dim_education_type.csv\n",
      "CSV file has been created: abfss://egyptianstudentsv2@newegyptianstudents446.dfs.core.windows.net/transformed-data/dim_father_degree.csv\n",
      "CSV file has been created: abfss://egyptianstudentsv2@newegyptianstudents446.dfs.core.windows.net/transformed-data/dim_mother_degree.csv\n",
      "CSV file has been created: abfss://egyptianstudentsv2@newegyptianstudents446.dfs.core.windows.net/transformed-data/fact_student_performance.csv\n",
      "All CSV files have been created in the transformed-data folder.\n",
      "abfss://egyptianstudentsv2@newegyptianstudents446.dfs.core.windows.net/transformed-data/dim_education_type.csv/\n",
      "abfss://egyptianstudentsv2@newegyptianstudents446.dfs.core.windows.net/transformed-data/dim_father_degree.csv/\n",
      "abfss://egyptianstudentsv2@newegyptianstudents446.dfs.core.windows.net/transformed-data/dim_mother_degree.csv/\n",
      "abfss://egyptianstudentsv2@newegyptianstudents446.dfs.core.windows.net/transformed-data/dim_student.csv/\n",
      "abfss://egyptianstudentsv2@newegyptianstudents446.dfs.core.windows.net/transformed-data/fact_student_performance.csv/\n"
     ]
    }
   ],
   "source": [
    "import pyspark.sql.functions as F\n",
    "\n",
    "# Set the configuration for the Azure storage account key\n",
    "spark.conf.set(\n",
    "    \"\"\n",
    ")\n",
    "\n",
    "# Convert Pandas DataFrame to Spark DataFrame\n",
    "df_students_spark = spark.createDataFrame(df_students)\n",
    "\n",
    "# Data Cleaning\n",
    "# Standardizing educational degrees\n",
    "df_students_spark = df_students_spark.withColumn(\n",
    "    'Father_Degree', \n",
    "    F.when(F.col('Father_Degree') == 'BSc', 'Bachelor').otherwise(F.col('Father_Degree'))\n",
    ")\n",
    "df_students_spark = df_students_spark.withColumn(\n",
    "    'Mother_Degree', \n",
    "    F.when(F.col('Mother_Degree') == 'BSc', 'Bachelor').otherwise(F.col('Mother_Degree'))\n",
    ")\n",
    "\n",
    "# Validate grades (assume grades are in range [20, 100])\n",
    "grade_columns = [f'Subject_{i}' for i in range(1, 11)]\n",
    "for column in grade_columns:\n",
    "    df_students_spark = df_students_spark.withColumn(\n",
    "        column, \n",
    "        F.when((F.col(column) < 20) | (F.col(column) > 100), None).otherwise(F.col(column))\n",
    "    )\n",
    "\n",
    "# Handle NaN values (could impute or drop)\n",
    "df_students_spark = df_students_spark.dropna(subset=grade_columns)\n",
    "\n",
    "# Create unique IDs for dimensions\n",
    "dim_student = df_students_spark.select('Student_Name', 'Student_Age', 'Student_Year').distinct()\n",
    "dim_student = dim_student.withColumn('Student_ID', F.monotonically_increasing_id() + 1)\n",
    "dim_student = dim_student.select('Student_ID', 'Student_Name', 'Student_Age', 'Student_Year')\n",
    "\n",
    "# Create Education Type Dimension\n",
    "dim_education_type = df_students_spark.select('Education_Type').distinct()\n",
    "dim_education_type = dim_education_type.withColumn('Education_Type_ID', F.monotonically_increasing_id() + 1)\n",
    "dim_education_type = dim_education_type.select('Education_Type_ID', 'Education_Type')\n",
    "\n",
    "# Create Parental Education Dimensions\n",
    "dim_father_degree = df_students_spark.select('Father_Degree').distinct()\n",
    "dim_father_degree = dim_father_degree.withColumn('Father_Degree_ID', F.monotonically_increasing_id() + 1)\n",
    "dim_father_degree = dim_father_degree.select('Father_Degree_ID', 'Father_Degree')\n",
    "\n",
    "dim_mother_degree = df_students_spark.select('Mother_Degree').distinct()\n",
    "dim_mother_degree = dim_mother_degree.withColumn('Mother_Degree_ID', F.monotonically_increasing_id() + 1)\n",
    "dim_mother_degree = dim_mother_degree.select('Mother_Degree_ID', 'Mother_Degree')\n",
    "\n",
    "# Create the fact table\n",
    "fact_student_performance = df_students_spark.join(dim_student, on=['Student_Name', 'Student_Age', 'Student_Year']) \\\n",
    "    .join(dim_education_type, on='Education_Type') \\\n",
    "    .join(dim_father_degree, on='Father_Degree') \\\n",
    "    .join(dim_mother_degree, on='Mother_Degree')\n",
    "\n",
    "# Select relevant columns for the fact table\n",
    "fact_student_performance = fact_student_performance.select(\n",
    "    'Student_ID', 'Education_Type_ID', 'Father_Degree_ID', 'Mother_Degree_ID', *grade_columns\n",
    ")\n",
    "\n",
    "# Write tables directly to CSV files in the data lake\n",
    "container_name = \"\"\n",
    "storage_account_name = \"\"\n",
    "\n",
    "# Define the base path for all CSV files\n",
    "base_path = f\"abfss://{container_name}@{storage_account_name}.dfs.core.windows.net/transformed-data\"\n",
    "\n",
    "# Function to write DataFrame to CSV\n",
    "def write_csv(df, table_name):\n",
    "    output_path = f\"{base_path}/{table_name}.csv\"\n",
    "    \n",
    "    # Write the DataFrame to CSV\n",
    "    df.coalesce(1).write.mode(\"overwrite\").option(\"header\", \"true\").csv(output_path)\n",
    "    \n",
    "    print(f\"CSV file has been created: {output_path}\")\n",
    "\n",
    "# Write CSV files\n",
    "write_csv(dim_student, \"dim_student\")\n",
    "write_csv(dim_education_type, \"dim_education_type\")\n",
    "write_csv(dim_father_degree, \"dim_father_degree\")\n",
    "write_csv(dim_mother_degree, \"dim_mother_degree\")\n",
    "write_csv(fact_student_performance, \"fact_student_performance\")\n",
    "\n",
    "print(\"All CSV files have been created in the transformed-data folder.\")\n",
    "\n",
    "# Optional: List the contents of the transformed-data folder to verify\n",
    "files = dbutils.fs.ls(base_path)\n",
    "for file in files:\n",
    "    print(file.path)"
   ]
  },
  {
   "cell_type": "code",
   "execution_count": null,
   "metadata": {
    "application/vnd.databricks.v1+cell": {
     "cellMetadata": {},
     "inputWidgets": {},
     "nuid": "cf4baeb6-e5e8-4cac-a639-5f6f18d2c2f3",
     "showTitle": false,
     "title": ""
    }
   },
   "outputs": [],
   "source": []
  }
 ],
 "metadata": {
  "application/vnd.databricks.v1+notebook": {
   "dashboards": [],
   "environmentMetadata": null,
   "language": "python",
   "notebookMetadata": {
    "pythonIndentUnit": 4
   },
   "notebookName": "eg-students-etl-process",
   "widgets": {}
  },
  "language_info": {
   "name": "python"
  }
 },
 "nbformat": 4,
 "nbformat_minor": 0
}
